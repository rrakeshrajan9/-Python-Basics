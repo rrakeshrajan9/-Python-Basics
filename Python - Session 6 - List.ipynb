{
 "cells": [
  {
   "cell_type": "markdown",
   "metadata": {
    "collapsed": true
   },
   "source": [
    "### A. List is a sequence of values"
   ]
  },
  {
   "cell_type": "markdown",
   "metadata": {},
   "source": [
    "Like a string, a list is a sequence of values. In a string, the values are characters; in a list, they can be any type. The values in list are called elements or sometimes items."
   ]
  },
  {
   "cell_type": "markdown",
   "metadata": {},
   "source": [
    "### B. List Examples"
   ]
  },
  {
   "cell_type": "code",
   "execution_count": null,
   "metadata": {
    "collapsed": true
   },
   "outputs": [],
   "source": [
    "[1,3,5,7,9]"
   ]
  },
  {
   "cell_type": "code",
   "execution_count": null,
   "metadata": {
    "collapsed": true
   },
   "outputs": [],
   "source": [
    "['apple', 'ball', 'cat', 'doll']"
   ]
  },
  {
   "cell_type": "code",
   "execution_count": null,
   "metadata": {
    "collapsed": true
   },
   "outputs": [],
   "source": [
    "[1, 'one']"
   ]
  },
  {
   "cell_type": "markdown",
   "metadata": {},
   "source": [
    "### C. Lists are Mutable "
   ]
  },
  {
   "cell_type": "code",
   "execution_count": null,
   "metadata": {
    "collapsed": true
   },
   "outputs": [],
   "source": [
    "words = ['apple', 'ball', 'cat', 'doll']\n",
    "words[1]"
   ]
  },
  {
   "cell_type": "code",
   "execution_count": null,
   "metadata": {
    "collapsed": true
   },
   "outputs": [],
   "source": [
    "words[1]= 'balloon'\n",
    "words"
   ]
  },
  {
   "cell_type": "markdown",
   "metadata": {},
   "source": [
    "### D. List Operations"
   ]
  },
  {
   "cell_type": "code",
   "execution_count": 3,
   "metadata": {},
   "outputs": [
    {
     "data": {
      "text/plain": [
       "[1, 2, 3, 4, 5, 6]"
      ]
     },
     "execution_count": 3,
     "metadata": {},
     "output_type": "execute_result"
    }
   ],
   "source": [
    "a = [1,2,3]\n",
    "b = [4,5,6]\n",
    "\n",
    "a + b "
   ]
  },
  {
   "cell_type": "code",
   "execution_count": null,
   "metadata": {
    "collapsed": true
   },
   "outputs": [],
   "source": [
    "[1]*4"
   ]
  },
  {
   "cell_type": "code",
   "execution_count": null,
   "metadata": {
    "collapsed": true
   },
   "outputs": [],
   "source": [
    "[1,2,3]*3"
   ]
  },
  {
   "cell_type": "markdown",
   "metadata": {},
   "source": [
    "### E. Slicing List"
   ]
  },
  {
   "cell_type": "code",
   "execution_count": 2,
   "metadata": {},
   "outputs": [
    {
     "data": {
      "text/plain": [
       "'apple'"
      ]
     },
     "execution_count": 2,
     "metadata": {},
     "output_type": "execute_result"
    }
   ],
   "source": [
    "words = ['apple', 'ball', 'cat', 'dog', 'elephant', 'fish', 'giraffe']\n",
    "words[0]"
   ]
  },
  {
   "cell_type": "code",
   "execution_count": 6,
   "metadata": {},
   "outputs": [
    {
     "data": {
      "text/plain": [
       "['ball', 'cat']"
      ]
     },
     "execution_count": 6,
     "metadata": {},
     "output_type": "execute_result"
    }
   ],
   "source": [
    "words[1:3] #slice the elements of incides 1 and 2"
   ]
  },
  {
   "cell_type": "code",
   "execution_count": null,
   "metadata": {
    "collapsed": true
   },
   "outputs": [],
   "source": [
    "words[-1]  #last element"
   ]
  },
  {
   "cell_type": "code",
   "execution_count": null,
   "metadata": {
    "collapsed": true
   },
   "outputs": [],
   "source": [
    "words[-2]  #second last elements"
   ]
  },
  {
   "cell_type": "code",
   "execution_count": null,
   "metadata": {
    "collapsed": true
   },
   "outputs": [],
   "source": [
    "words[-2:] #the last two elements"
   ]
  },
  {
   "cell_type": "code",
   "execution_count": null,
   "metadata": {
    "collapsed": true
   },
   "outputs": [],
   "source": [
    "words[:-2] #All elements except the last two elements"
   ]
  },
  {
   "cell_type": "code",
   "execution_count": 3,
   "metadata": {},
   "outputs": [
    {
     "data": {
      "text/plain": [
       "['apple', 'cat', 'elephant']"
      ]
     },
     "execution_count": 3,
     "metadata": {},
     "output_type": "execute_result"
    }
   ],
   "source": [
    "words[0:5:2] #elements from indices 0 to 4 at an interval of 2"
   ]
  },
  {
   "cell_type": "code",
   "execution_count": 10,
   "metadata": {},
   "outputs": [
    {
     "data": {
      "text/plain": [
       "['giraffe', 'fish', 'elephant', 'dog', 'cat', 'ball', 'apple']"
      ]
     },
     "execution_count": 10,
     "metadata": {},
     "output_type": "execute_result"
    }
   ],
   "source": [
    "words[::-1]  #Reverse the elements by taking elements at an interval of 1"
   ]
  },
  {
   "cell_type": "code",
   "execution_count": 8,
   "metadata": {},
   "outputs": [
    {
     "data": {
      "text/plain": [
       "['giraffe', 'elephant', 'cat', 'apple']"
      ]
     },
     "execution_count": 8,
     "metadata": {},
     "output_type": "execute_result"
    }
   ],
   "source": [
    "words[::-2]  #Reverse the elements by taking elements at an interval of 2"
   ]
  },
  {
   "cell_type": "markdown",
   "metadata": {},
   "source": [
    "### F. List and Function"
   ]
  },
  {
   "cell_type": "code",
   "execution_count": null,
   "metadata": {
    "collapsed": true
   },
   "outputs": [],
   "source": [
    "len(words)"
   ]
  },
  {
   "cell_type": "code",
   "execution_count": null,
   "metadata": {
    "collapsed": true
   },
   "outputs": [],
   "source": [
    "max(words)  # max of string will return the string which will be placed last in dictionary"
   ]
  },
  {
   "cell_type": "code",
   "execution_count": null,
   "metadata": {
    "collapsed": true
   },
   "outputs": [],
   "source": [
    "min(words)"
   ]
  },
  {
   "cell_type": "code",
   "execution_count": null,
   "metadata": {
    "collapsed": true
   },
   "outputs": [],
   "source": [
    "x = [1, 2, 3]"
   ]
  },
  {
   "cell_type": "code",
   "execution_count": null,
   "metadata": {
    "collapsed": true
   },
   "outputs": [],
   "source": [
    "sum(x)"
   ]
  },
  {
   "cell_type": "code",
   "execution_count": null,
   "metadata": {
    "collapsed": true
   },
   "outputs": [],
   "source": [
    "sum(x)/len(x)"
   ]
  },
  {
   "cell_type": "code",
   "execution_count": null,
   "metadata": {
    "collapsed": true
   },
   "outputs": [],
   "source": [
    "max(x)"
   ]
  },
  {
   "cell_type": "markdown",
   "metadata": {},
   "source": [
    "### G. List Methods"
   ]
  },
  {
   "cell_type": "code",
   "execution_count": null,
   "metadata": {
    "collapsed": true
   },
   "outputs": [],
   "source": [
    "dir(words)"
   ]
  },
  {
   "cell_type": "code",
   "execution_count": 5,
   "metadata": {},
   "outputs": [
    {
     "name": "stdout",
     "output_type": "stream",
     "text": [
      "Help on built-in function pop:\n",
      "\n",
      "pop(...) method of builtins.list instance\n",
      "    L.pop([index]) -> item -- remove and return item at index (default last).\n",
      "    Raises IndexError if list is empty or index is out of range.\n",
      "\n"
     ]
    }
   ],
   "source": [
    "help(words.pop)"
   ]
  },
  {
   "cell_type": "code",
   "execution_count": null,
   "metadata": {
    "collapsed": true
   },
   "outputs": [],
   "source": [
    "words.append('hat')  #Adding an additional element to a list"
   ]
  },
  {
   "cell_type": "code",
   "execution_count": 4,
   "metadata": {},
   "outputs": [
    {
     "ename": "IndexError",
     "evalue": "pop index out of range",
     "output_type": "error",
     "traceback": [
      "\u001b[1;31m---------------------------------------------------------------------------\u001b[0m",
      "\u001b[1;31mIndexError\u001b[0m                                Traceback (most recent call last)",
      "\u001b[1;32m<ipython-input-4-440d806eb73e>\u001b[0m in \u001b[0;36m<module>\u001b[1;34m()\u001b[0m\n\u001b[1;32m----> 1\u001b[1;33m \u001b[0mwords\u001b[0m\u001b[1;33m.\u001b[0m\u001b[0mpop\u001b[0m\u001b[1;33m(\u001b[0m\u001b[1;36m7\u001b[0m\u001b[1;33m)\u001b[0m\u001b[1;33m\u001b[0m\u001b[0m\n\u001b[0m",
      "\u001b[1;31mIndexError\u001b[0m: pop index out of range"
     ]
    }
   ],
   "source": [
    "words.pop(7)"
   ]
  },
  {
   "cell_type": "code",
   "execution_count": null,
   "metadata": {
    "collapsed": true
   },
   "outputs": [],
   "source": [
    "words"
   ]
  },
  {
   "cell_type": "code",
   "execution_count": null,
   "metadata": {
    "collapsed": true
   },
   "outputs": [],
   "source": [
    "help(words.clear)   #Asking for help"
   ]
  },
  {
   "cell_type": "code",
   "execution_count": null,
   "metadata": {
    "collapsed": true
   },
   "outputs": [],
   "source": [
    "help(words.remove)"
   ]
  },
  {
   "cell_type": "code",
   "execution_count": null,
   "metadata": {
    "collapsed": true
   },
   "outputs": [],
   "source": [
    "words.remove('hat') #Removing the element hat from the list of words"
   ]
  },
  {
   "cell_type": "code",
   "execution_count": null,
   "metadata": {
    "collapsed": true
   },
   "outputs": [],
   "source": [
    "words.append('hat')\n",
    "words.append('hat')\n",
    "words"
   ]
  },
  {
   "cell_type": "code",
   "execution_count": null,
   "metadata": {
    "collapsed": true
   },
   "outputs": [],
   "source": [
    "words"
   ]
  },
  {
   "cell_type": "markdown",
   "metadata": {},
   "source": [
    "### H. List and Strings"
   ]
  },
  {
   "cell_type": "code",
   "execution_count": 12,
   "metadata": {},
   "outputs": [
    {
     "name": "stdout",
     "output_type": "stream",
     "text": [
      "['s', 't', 'r', 'i', 'n', 'g']\n"
     ]
    }
   ],
   "source": [
    "s = 'string'\n",
    "t = list(s)   #Converting a string to a list\n",
    "print(t)"
   ]
  },
  {
   "cell_type": "code",
   "execution_count": null,
   "metadata": {
    "collapsed": true
   },
   "outputs": [],
   "source": [
    "mystr = 'I love python'\n",
    "mystr.split()  #Splitting words of a string and storing it into a list (default delimiter is space)"
   ]
  },
  {
   "cell_type": "code",
   "execution_count": 1,
   "metadata": {
    "collapsed": true
   },
   "outputs": [],
   "source": [
    "mystr = 'I-Love-Python'\n",
    "s= mystr.split('-') "
   ]
  },
  {
   "cell_type": "code",
   "execution_count": 2,
   "metadata": {},
   "outputs": [
    {
     "data": {
      "text/plain": [
       "['I', 'Love', 'Python']"
      ]
     },
     "execution_count": 2,
     "metadata": {},
     "output_type": "execute_result"
    }
   ],
   "source": [
    "s"
   ]
  },
  {
   "cell_type": "code",
   "execution_count": 13,
   "metadata": {},
   "outputs": [
    {
     "data": {
      "text/plain": [
       "'string'"
      ]
     },
     "execution_count": 13,
     "metadata": {},
     "output_type": "execute_result"
    }
   ],
   "source": [
    "dlm = ''\n",
    "dlm.join(t)  #Joining the elements of a list into a string"
   ]
  },
  {
   "cell_type": "code",
   "execution_count": 3,
   "metadata": {},
   "outputs": [
    {
     "data": {
      "text/plain": [
       "'I-Love-Python'"
      ]
     },
     "execution_count": 3,
     "metadata": {},
     "output_type": "execute_result"
    }
   ],
   "source": [
    "dlm = '-'\n",
    "dlm.join(s)"
   ]
  },
  {
   "cell_type": "markdown",
   "metadata": {},
   "source": [
    "### I. Exercise"
   ]
  },
  {
   "cell_type": "markdown",
   "metadata": {},
   "source": [
    "[A] Suppose that you are creating a software to track transactions. First this software will prompt for the number of unique items purchased following which it will prompt for the items purchased by the customers and finally return the list of items purchased. Once the list is recorded for one customer it will ask if you want to continue.\n",
    "\n",
    "    Enter the number of unique items purchased: 3\n",
    "    Enter item no. 1 apple\n",
    "    Enter item no. 2 juice\n",
    "    Enter item no. 3 butter\n",
    "\n",
    "    Transaction details:\n",
    "    ['apple', 'juice', 'butter']\n",
    "\n",
    "    Do you want to continue: yes\n",
    "    Enter the number of unique items purchased: 2\n",
    "    Enter item no. 1 bread\n",
    "    Enter item no. 2 jam\n",
    "\n",
    "    Transaction details:\n",
    "    ['bread', 'jam']\n",
    "\n",
    "    Do you want to continue: no"
   ]
  },
  {
   "cell_type": "code",
   "execution_count": 1,
   "metadata": {
    "collapsed": true
   },
   "outputs": [],
   "source": [
    "def tran():\n",
    "    num = int(input(\"Enter number of unique items purchased: \"))\n",
    "    t = []\n",
    "    for i in range(0,num):\n",
    "        s = input(\"Enter item no. %i: \" %(i+1))\n",
    "        t.append(s)\n",
    "    print(\"Transaction details: \", t)\n",
    "    "
   ]
  },
  {
   "cell_type": "code",
   "execution_count": 3,
   "metadata": {},
   "outputs": [
    {
     "name": "stdout",
     "output_type": "stream",
     "text": [
      "Enter number of unique items purchased: 3\n",
      "Enter item no. 1: bread\n",
      "Enter item no. 2: cake\n",
      "Enter item no. 3: fruit\n",
      "Transaction details:  ['bread', 'cake', 'fruit']\n",
      "Do you want to continue: yes\n",
      "Enter number of unique items purchased: 2\n",
      "Enter item no. 1: coke\n",
      "Enter item no. 2: milk\n",
      "Transaction details:  ['coke', 'milk']\n",
      "Do you want to continue: no\n"
     ]
    }
   ],
   "source": [
    "tran()\n",
    "c = input(\"Do you want to continue: \") \n",
    "while c == 'yes':\n",
    "    tran()\n",
    "    c = input(\"Do you want to continue: \")  "
   ]
  },
  {
   "cell_type": "markdown",
   "metadata": {},
   "source": [
    "[B] The previous solution (as it is evident) was a very crude solution. Someone in the billing counter has no idea about the number of unique products purchased by a customer. Therefore the program should be designed in such a way that will enable the person in the billing counter to start recording the items once a customer arrives at the billing desk and keep recording the items until it signals done. Once the person is done recording the items of one customer it will ask if he/she need to record one more transaction. If yes it continues...\n",
    "\n",
    "    Enter item no. 1 : apple\n",
    "    Enter item no. 2 : juice\n",
    "    Enter item no. 3 : butter\n",
    "    Enter item no. 4 : done\n",
    "    \n",
    "    Transaction for Customer 1\n",
    "    ['apple', 'juice', 'butter']\n",
    "    \n",
    "    \n",
    "    Next customer? (yes/no): yes\n",
    "    \n",
    "    Enter item no. 1 : bread\n",
    "    Enter item no. 2 : jam\n",
    "    Enter item no. 3 : done\n",
    "    \n",
    "    Transaction for Customer 1\n",
    "    ['bread', 'jam']\n",
    "    \n",
    "    \n",
    "    Next customer? (yes/no): no"
   ]
  },
  {
   "cell_type": "code",
   "execution_count": null,
   "metadata": {
    "collapsed": true
   },
   "outputs": [],
   "source": [
    "def tran():\n",
    "    t = []\n",
    "    i = 0\n",
    "    s = input(\"Enter item no. %i: \" %(i+1))\n",
    "    i += 1\n",
    "    while s != 'done':\n",
    "        t.append(s)\n",
    "        s = input(\"Enter item no. %i: \" %(i+1))\n",
    "        i += 1\n",
    "    print(\"Transaction for Customer 1: \", t)"
   ]
  },
  {
   "cell_type": "code",
   "execution_count": null,
   "metadata": {
    "collapsed": true
   },
   "outputs": [],
   "source": [
    "tran()\n",
    "c = input(\"Next customer? (yes/no): \") \n",
    "while c == 'yes':\n",
    "    tran()\n",
    "    c = input(\"Next customer? (yes/no): \") "
   ]
  },
  {
   "cell_type": "markdown",
   "metadata": {},
   "source": [
    "[C] Modify the above program such that for every item the software prompts  for the quantity purchases and its price. Finally for each customers, along with the list of items purchases it also gives the bill amount.\n",
    "\n",
    "    Item 1 : apple\n",
    "    Quantity for item 1: 0.5\n",
    "    Price for item 1: 109\n",
    "    Item 2 : juice\n",
    "    Quantity for item 2: 1\n",
    "    Price for item 2: 99\n",
    "    Item 3 : butter\n",
    "    Quantity for item 3: 2\n",
    "    Price for item 3: 45\n",
    "    Item 4 : done\n",
    "    \n",
    "    Transaction for Customer 1\n",
    "    ['apple', 'juice', 'butter']\n",
    "    Total:  243.5\n",
    "    \n",
    "    \n",
    "    Next customer? (yes/no): yes\n",
    "    \n",
    "    Item 1 : bread\n",
    "    Quantity for item 1: 1\n",
    "    Price for item 1: 31\n",
    "    Item 2 : Jam\n",
    "    Quantity for item 2: 1\n",
    "    Price for item 2: 89\n",
    "    Item 3 : done\n",
    "    \n",
    "    Transaction for Customer 1\n",
    "    ['bread', 'Jam']\n",
    "    Total:  120.0\n",
    "    \n",
    "    \n",
    "    Next customer? (yes/no): no"
   ]
  },
  {
   "cell_type": "code",
   "execution_count": null,
   "metadata": {
    "collapsed": true
   },
   "outputs": [],
   "source": [
    "def tran():\n",
    "    t = []\n",
    "    i = 0\n",
    "    s = input(\"Item no. %i: \" %(i+1))\n",
    "    quan = float(input(\"Quantity for item %i: \"%(i+1)))\n",
    "    price = float(input(\"Price for item %i: \"%(i+1)))\n",
    "    tot = quan*price\n",
    "    i += 1\n",
    "    while s != 'done':\n",
    "        t.append(s)\n",
    "        s = input(\"Item no. %i: \" %(i+1))\n",
    "        if s != 'done':\n",
    "            quan = float(input(\"Quantity for item %i: \"%(i+1)))\n",
    "            price = float(input(\"Price for item %i: \"%(i+1)))\n",
    "            tot = tot + quan*price\n",
    "        i += 1\n",
    "    print(\"Transaction for Customer 1: \", t)\n",
    "    print(\"Total: \",tot)"
   ]
  },
  {
   "cell_type": "code",
   "execution_count": null,
   "metadata": {
    "collapsed": true
   },
   "outputs": [],
   "source": [
    "tran()\n",
    "c = input(\"Next customer? (yes/no): \") \n",
    "while c == 'yes':\n",
    "    tran()\n",
    "    c = input(\"Next customer? (yes/no): \") "
   ]
  },
  {
   "cell_type": "markdown",
   "metadata": {},
   "source": [
    "[D] I am sure that almost all of you have searched coupon codes to get discounts from Food Panda or Swiggy. Have you noticed that once you have applied a code you cannot apply it again? But the website shows you all. Come on , let us write one such program.\n",
    "\n",
    "    Following are the available list of coupons for Food Panda\n",
    "    ['FP040', 'FP111', 'FPHBD05', 'FP9989', 'HappyMeal']\n",
    "\n",
    "\n",
    "    Type the one you want to apply: FP9989\n",
    "    Congratulation! You have successfully applied this coupon\n",
    "\n",
    "    would you like to use another coupon?yes\n",
    "    Following are the available list of coupons for Food Panda\n",
    "    ['FP040', 'FP111', 'FPHBD05', 'FP9989', 'HappyMeal']\n",
    "\n",
    "\n",
    "    Type the one you want to apply: FP9989\n",
    "    Sorry! You have already applied this coupon\n",
    "\n",
    "    would you like to use another coupon? no\n",
    "\n"
   ]
  },
  {
   "cell_type": "code",
   "execution_count": 4,
   "metadata": {
    "collapsed": true
   },
   "outputs": [],
   "source": [
    "def coupon(avCoup = ['FP040', 'FP111', 'FPHBD05', 'FP9989', 'HappyMeal']):\n",
    "    coup = ['FP040', 'FP111', 'FPHBD05', 'FP9989', 'HappyMeal']\n",
    "    print(\"Following are the available list of coupons for Food Panda\")\n",
    "    print(coup)\n",
    "\n",
    "    appCoup = input(\"Type the one you want to apply: \")\n",
    "    try:\n",
    "        avCoup.remove(appCoup)\n",
    "        print(\"Congratulation! You have successfully applied this coupon\")\n",
    "        return avCoup\n",
    "    except:\n",
    "        print(\"Sorry! You have already applied this coupon\")\n",
    "        return avCoup"
   ]
  },
  {
   "cell_type": "code",
   "execution_count": 5,
   "metadata": {},
   "outputs": [
    {
     "name": "stdout",
     "output_type": "stream",
     "text": [
      "Following are the available list of coupons for Food Panda\n",
      "['FP040', 'FP111', 'FPHBD05', 'FP9989', 'HappyMeal']\n",
      "Type the one you want to apply: HappyMeal\n",
      "Congratulation! You have successfully applied this coupon\n",
      "would you like to use another coupon? (yes/no): yes\n",
      "Following are the available list of coupons for Food Panda\n",
      "['FP040', 'FP111', 'FPHBD05', 'FP9989', 'HappyMeal']\n",
      "Type the one you want to apply: HappyMeal\n",
      "Sorry! You have already applied this coupon\n",
      "would you like to use another coupon? (yes/no): no\n"
     ]
    }
   ],
   "source": [
    "avCoup = coupon()\n",
    "again = input(\"would you like to use another coupon? (yes/no): \") \n",
    "while again == 'yes':\n",
    "    avCoup = coupon(avCoup)\n",
    "    again = input(\"would you like to use another coupon? (yes/no): \") "
   ]
  },
  {
   "cell_type": "markdown",
   "metadata": {},
   "source": [
    "[E] In the files exercises, we had found out the list of email ids from the mbox file. Can we extract the list of unique email ids?\n",
    "\n",
    "    stephen.marquard@uct.ac.za\n",
    "    louis@media.berkeley.edu\n",
    "    zqian@umich.edu\n",
    "    rjlowe@iupui.edu\n",
    "    cwen@iupui.edu\n",
    "    gsilver@umich.edu\n",
    "    wagnermr@iupui.edu\n",
    "    antranig@caret.cam.ac.uk\n",
    "    gopal.ramasammycook@gmail.com\n",
    "    david.horwitz@uct.ac.za\n",
    "    ray@media.berkeley.edu\n",
    "\n",
    "    Total unique contacts = 11"
   ]
  },
  {
   "cell_type": "code",
   "execution_count": 6,
   "metadata": {},
   "outputs": [
    {
     "name": "stdout",
     "output_type": "stream",
     "text": [
      "['stephen.marquard@uct.ac.za', 'louis@media.berkeley.edu', 'zqian@umich.edu', 'jlowe@iupui.edu', 'cwen@iupui.edu', 'gsilver@umich.edu', 'wagnermr@iupui.edu', 'antranig@caret.cam.ac.uk', 'gopal.ramasammycook@gmail.com', 'david.horwitz@uct.ac.za', 'ay@media.berkeley.edu']\n"
     ]
    }
   ],
   "source": [
    "import os\n",
    "os.chdir('C:\\\\Users\\\\DELL\\\\Desktop\\\\Python\\\\12022018')\n",
    "fhand = open(\"mbox-short.txt\")\n",
    "t = []\n",
    "count  = 0\n",
    "for line in fhand:\n",
    "    if line.startswith(\"From:\"):\n",
    "        line = line.rstrip()\n",
    "        line = line.lstrip(\"From: \")  #lstrip will strip characters as well.\n",
    "        if line not in t:\n",
    "            t.append(line)\n",
    "        \n",
    "           \n",
    "print(t)\n"
   ]
  },
  {
   "cell_type": "code",
   "execution_count": null,
   "metadata": {
    "collapsed": true
   },
   "outputs": [],
   "source": []
  }
 ],
 "metadata": {
  "kernelspec": {
   "display_name": "Python 3",
   "language": "python",
   "name": "python3"
  },
  "language_info": {
   "codemirror_mode": {
    "name": "ipython",
    "version": 3
   },
   "file_extension": ".py",
   "mimetype": "text/x-python",
   "name": "python",
   "nbconvert_exporter": "python",
   "pygments_lexer": "ipython3",
   "version": "3.6.3"
  }
 },
 "nbformat": 4,
 "nbformat_minor": 2
}
