{
 "cells": [
  {
   "cell_type": "markdown",
   "metadata": {},
   "source": [
    "## Dictionaries"
   ]
  },
  {
   "cell_type": "markdown",
   "metadata": {
    "collapsed": true
   },
   "source": [
    "A dictionary is like a list, but more general. In a list, the positions (a.k.a. indices) have to be integers; in a dictionary the indices can be (almost) any type.\n",
    "\n",
    "You can think of a dictionary as a mapping between a set of indices (which are called keys) and a set of values. Each key maps to a value. The association of a key and a value is called a key-value pair or sometimes an item"
   ]
  },
  {
   "cell_type": "markdown",
   "metadata": {},
   "source": [
    "### An Example of Dictionary"
   ]
  },
  {
   "cell_type": "markdown",
   "metadata": {},
   "source": [
    "Let us build a dictionary that maps English to Spanish words. In this dictionary the keys will be some english words and their corresponding values will be the corresponding spanish words"
   ]
  },
  {
   "cell_type": "code",
   "execution_count": 2,
   "metadata": {
    "collapsed": true
   },
   "outputs": [],
   "source": [
    "eng2sp = {'one': 'uno', 'two': 'dos', 'three': 'tres'}"
   ]
  },
  {
   "cell_type": "markdown",
   "metadata": {},
   "source": [
    "**Note:** \n",
    "\n",
    "* A dictionary is created using a curly bracket\n",
    "\n",
    "* The values in a dictionary are indexed by keys. The keys are needed to be specified while creating a dictionary. \n",
    "\n",
    "* As an example, 'one':'uno' represents a key-value pair."
   ]
  },
  {
   "cell_type": "markdown",
   "metadata": {},
   "source": [
    "*What if we enclose some values (separated by commas) in a curly bracket? What type of object do we get?*\n",
    "\n",
    "* *A dictionary with only keys.*\n",
    "* *A dictionary with elements indexed by integer*\n",
    "* *This object is not a dictionary*"
   ]
  },
  {
   "cell_type": "code",
   "execution_count": 2,
   "metadata": {
    "collapsed": true
   },
   "outputs": [],
   "source": [
    "d={'one', 'two', 'three'}"
   ]
  },
  {
   "cell_type": "code",
   "execution_count": 2,
   "metadata": {},
   "outputs": [
    {
     "data": {
      "text/plain": [
       "set"
      ]
     },
     "execution_count": 2,
     "metadata": {},
     "output_type": "execute_result"
    }
   ],
   "source": [
    "type(d)"
   ]
  },
  {
   "cell_type": "code",
   "execution_count": 5,
   "metadata": {
    "collapsed": true
   },
   "outputs": [],
   "source": [
    "d={1.2:'one', 2.75:'two'}"
   ]
  },
  {
   "cell_type": "code",
   "execution_count": null,
   "metadata": {
    "collapsed": true
   },
   "outputs": [],
   "source": [
    "type(d)"
   ]
  },
  {
   "cell_type": "markdown",
   "metadata": {},
   "source": [
    "### Retrieving elements from a dictionary"
   ]
  },
  {
   "cell_type": "code",
   "execution_count": null,
   "metadata": {
    "collapsed": true
   },
   "outputs": [],
   "source": [
    "eng2sp['one']"
   ]
  },
  {
   "cell_type": "code",
   "execution_count": null,
   "metadata": {
    "collapsed": true
   },
   "outputs": [],
   "source": [
    "eng2sp['two']"
   ]
  },
  {
   "cell_type": "code",
   "execution_count": 6,
   "metadata": {},
   "outputs": [
    {
     "data": {
      "text/plain": [
       "'one'"
      ]
     },
     "execution_count": 6,
     "metadata": {},
     "output_type": "execute_result"
    }
   ],
   "source": [
    "d[1.2]"
   ]
  },
  {
   "cell_type": "markdown",
   "metadata": {},
   "source": [
    "### Slicing a dictionary"
   ]
  },
  {
   "cell_type": "code",
   "execution_count": null,
   "metadata": {
    "collapsed": true
   },
   "outputs": [],
   "source": [
    "l = ['one', 'three']"
   ]
  },
  {
   "cell_type": "code",
   "execution_count": null,
   "metadata": {
    "collapsed": true
   },
   "outputs": [],
   "source": [
    "for key in l:\n",
    "    print(eng2sp[key])"
   ]
  },
  {
   "cell_type": "code",
   "execution_count": null,
   "metadata": {
    "collapsed": true
   },
   "outputs": [],
   "source": [
    "d = dict()\n",
    "for key in l:\n",
    "    d[key] = eng2sp[key] #clone the dic to new dic\n",
    "print(d)"
   ]
  },
  {
   "cell_type": "code",
   "execution_count": null,
   "metadata": {
    "collapsed": true
   },
   "outputs": [],
   "source": [
    "#Alternate way\n",
    "dict([(key, eng2sp[key]) for key in l])"
   ]
  },
  {
   "cell_type": "markdown",
   "metadata": {},
   "source": [
    "### Adding Key-Value in a dictionary"
   ]
  },
  {
   "cell_type": "code",
   "execution_count": null,
   "metadata": {
    "collapsed": true
   },
   "outputs": [],
   "source": [
    "eng2sp['four'] = 'cuatro'"
   ]
  },
  {
   "cell_type": "code",
   "execution_count": null,
   "metadata": {
    "collapsed": true
   },
   "outputs": [],
   "source": [
    "eng2sp"
   ]
  },
  {
   "cell_type": "markdown",
   "metadata": {},
   "source": [
    "### in Operator for Dictionary"
   ]
  },
  {
   "cell_type": "markdown",
   "metadata": {},
   "source": [
    "The in operator works on dictionaries; it tells you whether something appears as a key in the dictionary"
   ]
  },
  {
   "cell_type": "code",
   "execution_count": null,
   "metadata": {
    "collapsed": true
   },
   "outputs": [],
   "source": [
    "'one' in eng2sp   #only works for keys present in the dictionary"
   ]
  },
  {
   "cell_type": "code",
   "execution_count": null,
   "metadata": {
    "collapsed": true
   },
   "outputs": [],
   "source": [
    "'uno' in eng2sp"
   ]
  },
  {
   "cell_type": "markdown",
   "metadata": {},
   "source": [
    "### Counting the Frequency Distribution of Letters in a Word"
   ]
  },
  {
   "cell_type": "code",
   "execution_count": 7,
   "metadata": {},
   "outputs": [
    {
     "name": "stdout",
     "output_type": "stream",
     "text": [
      "{'b': 1, 'a': 3, 'n': 2}\n"
     ]
    }
   ],
   "source": [
    "#Frequency distriution of the letters in 'banana'\n",
    "word = \"banana\"\n",
    "d = {}  # empty dictionary.\n",
    "\n",
    "for letter in word:\n",
    "    if letter not in d:\n",
    "        d[letter] = 1  # entering the letter as key and its count as value.\n",
    "    else:\n",
    "        d[letter] += 1 # if the letter is present, then increment the value by 1\n",
    "print(d)"
   ]
  },
  {
   "cell_type": "markdown",
   "metadata": {},
   "source": [
    "**The 'get' method for dictionary**"
   ]
  },
  {
   "cell_type": "markdown",
   "metadata": {},
   "source": [
    " Dictionaries have a method called get that takes a key and a default value. If the key appears in the dictionary, get returns the corresponding value; otherwise it returns the default value. "
   ]
  },
  {
   "cell_type": "code",
   "execution_count": 3,
   "metadata": {},
   "outputs": [
    {
     "data": {
      "text/plain": [
       "'uno'"
      ]
     },
     "execution_count": 3,
     "metadata": {},
     "output_type": "execute_result"
    }
   ],
   "source": [
    "#For example,\n",
    "eng2sp.get('one',0) #Return 0 as default value"
   ]
  },
  {
   "cell_type": "code",
   "execution_count": null,
   "metadata": {
    "collapsed": true
   },
   "outputs": [],
   "source": [
    "eng2sp.get('five',0)"
   ]
  },
  {
   "cell_type": "markdown",
   "metadata": {},
   "source": [
    "**Making the counting simple using the 'get' method**"
   ]
  },
  {
   "cell_type": "code",
   "execution_count": 1,
   "metadata": {},
   "outputs": [
    {
     "name": "stdout",
     "output_type": "stream",
     "text": [
      "{'b': 1, 'a': 3, 'n': 2}\n"
     ]
    }
   ],
   "source": [
    "word = \"banana\"\n",
    "d = {}  # empty dictionary.\n",
    "for letter in word:\n",
    "    d[letter] = d.get(letter,0) + 1\n",
    "\n",
    "print(d)"
   ]
  },
  {
   "cell_type": "markdown",
   "metadata": {},
   "source": [
    "### A Common Use of Dictionaries"
   ]
  },
  {
   "cell_type": "markdown",
   "metadata": {
    "collapsed": true
   },
   "source": [
    "One of the common uses of a dictionary is to count the occurrence of words in a ﬁle with some written text."
   ]
  },
  {
   "cell_type": "code",
   "execution_count": 22,
   "metadata": {
    "collapsed": true
   },
   "outputs": [],
   "source": [
    "#Exercise: Read the Ashop1.txt file\n",
    "import os\n",
    "os.chdir(\"C:\\\\Users\\\\DELL\\\\Desktop\\\\Python\\\\27022018\")\n",
    "ashop1 = open('Ashop1.txt')"
   ]
  },
  {
   "cell_type": "code",
   "execution_count": 23,
   "metadata": {},
   "outputs": [
    {
     "name": "stdout",
     "output_type": "stream",
     "text": [
      "{'the': 7, 'cock': 3, 'and': 3, 'pearl': 2, 'a': 5, 'was': 1, 'once': 1, 'strutting': 1, 'up': 1, 'down': 1, 'farmyard': 1, 'among': 1, 'hens': 1, 'when': 1, 'suddenly': 1, 'he': 2, 'espied': 1, 'something': 1, 'shinning': 1, 'amid': 1, 'straw': 2, 'ho': 2, 'quoth': 2, 'thats': 1, 'for': 3, 'me': 2, 'soon': 1, 'rooted': 1, 'it': 2, 'out': 2, 'from': 1, 'beneath': 1, 'what': 1, 'did': 1, 'turn': 1, 'to': 2, 'be': 2, 'but': 2, 'that': 3, 'by': 1, 'some': 1, 'chance': 1, 'had': 1, 'been': 1, 'lost': 1, 'in': 1, 'yard': 1, 'you': 1, 'may': 1, 'treasure': 1, 'master': 1, 'men': 1, 'prize': 2, 'you,': 1, 'i': 1, 'would': 1, 'rather': 1, 'have': 1, 'single': 1, 'barley-corn': 1, 'than': 1, 'peck': 1, 'of': 1, 'pearls': 1, 'precious': 1, 'things': 1, 'are': 1, 'those': 1, 'can': 1, 'them': 1}\n"
     ]
    }
   ],
   "source": [
    "d = {}\n",
    "for line in ashop1:\n",
    "    line = line.lower()\n",
    "    l = line.split()\n",
    "    for word in l:\n",
    "        d[word] = d.get(word,0)+1\n",
    "print(d)"
   ]
  },
  {
   "cell_type": "markdown",
   "metadata": {},
   "source": [
    "**Exercise:** Find the frequency distribution of the of the words present in this file. \n",
    "\n",
    "*(A hint is given at the bottom. Look at it only if you are no more able to figure out how to do it)*"
   ]
  },
  {
   "cell_type": "code",
   "execution_count": 24,
   "metadata": {},
   "outputs": [
    {
     "name": "stdout",
     "output_type": "stream",
     "text": [
      "7 the\n",
      "3 cock\n",
      "3 and\n",
      "2 pearl\n",
      "5 a\n",
      "1 was\n",
      "1 once\n",
      "1 strutting\n",
      "1 up\n",
      "1 down\n",
      "1 farmyard\n",
      "1 among\n",
      "1 hens\n",
      "1 when\n",
      "1 suddenly\n",
      "2 he\n",
      "1 espied\n",
      "1 something\n",
      "1 shinning\n",
      "1 amid\n",
      "2 straw\n",
      "2 ho\n",
      "2 quoth\n",
      "1 thats\n",
      "3 for\n",
      "2 me\n",
      "1 soon\n",
      "1 rooted\n",
      "2 it\n",
      "2 out\n",
      "1 from\n",
      "1 beneath\n",
      "1 what\n",
      "1 did\n",
      "1 turn\n",
      "2 to\n",
      "2 be\n",
      "2 but\n",
      "3 that\n",
      "1 by\n",
      "1 some\n",
      "1 chance\n",
      "1 had\n",
      "1 been\n",
      "1 lost\n",
      "1 in\n",
      "1 yard\n",
      "1 you\n",
      "1 may\n",
      "1 treasure\n",
      "1 master\n",
      "1 men\n",
      "2 prize\n",
      "1 you,\n",
      "1 i\n",
      "1 would\n",
      "1 rather\n",
      "1 have\n",
      "1 single\n",
      "1 barley-corn\n",
      "1 than\n",
      "1 peck\n",
      "1 of\n",
      "1 pearls\n",
      "1 precious\n",
      "1 things\n",
      "1 are\n",
      "1 those\n",
      "1 can\n",
      "1 them\n"
     ]
    }
   ],
   "source": [
    "#Printing properly\n",
    "for key in d:\n",
    "    print(d[key],key)"
   ]
  },
  {
   "cell_type": "markdown",
   "metadata": {},
   "source": [
    "Note: The printing is not in any particular order"
   ]
  },
  {
   "cell_type": "code",
   "execution_count": 25,
   "metadata": {},
   "outputs": [
    {
     "name": "stdout",
     "output_type": "stream",
     "text": [
      "7 the\n",
      "3 cock\n",
      "3 and\n",
      "2 pearl\n",
      "5 a\n",
      "2 he\n",
      "2 straw\n",
      "2 ho\n",
      "2 quoth\n",
      "3 for\n",
      "2 me\n",
      "2 it\n",
      "2 out\n",
      "2 to\n",
      "2 be\n",
      "2 but\n",
      "3 that\n",
      "2 prize\n"
     ]
    }
   ],
   "source": [
    "#Printing words with count greater than or equal to 2\n",
    "for key in d:\n",
    "    if d[key] >= 2:\n",
    "        print(d[key],key)"
   ]
  },
  {
   "cell_type": "code",
   "execution_count": 26,
   "metadata": {},
   "outputs": [
    {
     "data": {
      "text/plain": [
       "dict_keys(['the', 'cock', 'and', 'pearl', 'a', 'was', 'once', 'strutting', 'up', 'down', 'farmyard', 'among', 'hens', 'when', 'suddenly', 'he', 'espied', 'something', 'shinning', 'amid', 'straw', 'ho', 'quoth', 'thats', 'for', 'me', 'soon', 'rooted', 'it', 'out', 'from', 'beneath', 'what', 'did', 'turn', 'to', 'be', 'but', 'that', 'by', 'some', 'chance', 'had', 'been', 'lost', 'in', 'yard', 'you', 'may', 'treasure', 'master', 'men', 'prize', 'you,', 'i', 'would', 'rather', 'have', 'single', 'barley-corn', 'than', 'peck', 'of', 'pearls', 'precious', 'things', 'are', 'those', 'can', 'them'])"
      ]
     },
     "execution_count": 26,
     "metadata": {},
     "output_type": "execute_result"
    }
   ],
   "source": [
    "#Printing keys in alphabetical order:\n",
    "\n",
    "#But before that....\n",
    "#Method keys - makes a dict of keys\n",
    "d.keys()"
   ]
  },
  {
   "cell_type": "code",
   "execution_count": 27,
   "metadata": {},
   "outputs": [
    {
     "data": {
      "text/plain": [
       "dict_keys"
      ]
     },
     "execution_count": 27,
     "metadata": {},
     "output_type": "execute_result"
    }
   ],
   "source": [
    "type(d.keys())"
   ]
  },
  {
   "cell_type": "code",
   "execution_count": 28,
   "metadata": {},
   "outputs": [
    {
     "name": "stdout",
     "output_type": "stream",
     "text": [
      "5 a\n",
      "3 and\n",
      "2 be\n",
      "2 but\n",
      "3 cock\n",
      "3 for\n",
      "2 he\n",
      "2 ho\n",
      "2 it\n",
      "2 me\n",
      "2 out\n",
      "2 pearl\n",
      "2 prize\n",
      "2 quoth\n",
      "2 straw\n",
      "3 that\n",
      "7 the\n",
      "2 to\n"
     ]
    }
   ],
   "source": [
    "keys = list(d.keys())  #putting the keys into list\n",
    "keys.sort()   # sort the list\n",
    "for key in keys:\n",
    "    if d[key] >= 2:\n",
    "        print(d[key],key)"
   ]
  },
  {
   "cell_type": "markdown",
   "metadata": {},
   "source": [
    "### Advanced Text Parsing"
   ]
  },
  {
   "cell_type": "markdown",
   "metadata": {
    "collapsed": true
   },
   "source": [
    "The actual text for this particular Ashop's fable is given in the file Ashop.txt. The actual file has lots of punctuations. We should also take care of the case sensitivity."
   ]
  },
  {
   "cell_type": "code",
   "execution_count": 29,
   "metadata": {},
   "outputs": [
    {
     "data": {
      "text/plain": [
       "'!\"#$%&\\'()*+,-./:;<=>?@[\\\\]^_`{|}~'"
      ]
     },
     "execution_count": 29,
     "metadata": {},
     "output_type": "execute_result"
    }
   ],
   "source": [
    "#Before we do so lets look at some other thing.\n",
    "\n",
    "#1. punctuation\n",
    "import string\n",
    "p = string.punctuation\n",
    "p"
   ]
  },
  {
   "cell_type": "code",
   "execution_count": 30,
   "metadata": {},
   "outputs": [
    {
     "name": "stdout",
     "output_type": "stream",
     "text": [
      "WoW\n"
     ]
    }
   ],
   "source": [
    "#2. translate method for string\n",
    "# str.maketrans()\n",
    "\n",
    "#This uses the 3-argument version of str.maketrans with arguments (x, y, z) where 'x' and 'y'\n",
    "# must be equal-length strings and characters in 'x' are replaced by characters in 'y'. 'z'\n",
    "# is a string (string.punctuation here) where each character in the string is mapped to None\n",
    "\n",
    "s = \"wow!\"\n",
    "trans = str.maketrans(\"w\", \"W\", \"!\") #Replace 'w' by 'W' and '!' is mapped to none\n",
    "s = s.translate(trans)\n",
    "print(s)"
   ]
  },
  {
   "cell_type": "code",
   "execution_count": 31,
   "metadata": {},
   "outputs": [
    {
     "name": "stdout",
     "output_type": "stream",
     "text": [
      "Wow isnt today a great day\n"
     ]
    }
   ],
   "source": [
    "string = \"Wow! isn't today a great day???\"\n",
    "trans = str.maketrans(\"\", \"\", p)\n",
    "string = string.translate(trans)\n",
    "print(string)"
   ]
  },
  {
   "cell_type": "code",
   "execution_count": null,
   "metadata": {
    "collapsed": true
   },
   "outputs": [],
   "source": [
    "type(p)"
   ]
  },
  {
   "cell_type": "code",
   "execution_count": 33,
   "metadata": {},
   "outputs": [
    {
     "name": "stdout",
     "output_type": "stream",
     "text": [
      "7 the\n",
      "3 cock\n",
      "3 and\n",
      "2 pearl\n",
      "5 a\n",
      "1 was\n",
      "1 once\n",
      "1 strutting\n",
      "1 up\n",
      "1 down\n",
      "1 farmyard\n",
      "1 among\n",
      "1 hens\n",
      "1 when\n",
      "1 suddenly\n",
      "2 he\n",
      "1 espied\n",
      "1 something\n",
      "1 shinning\n",
      "1 amid\n",
      "2 straw\n",
      "2 ho\n",
      "2 quoth\n",
      "1 thats\n",
      "3 for\n",
      "2 me\n",
      "1 soon\n",
      "1 rooted\n",
      "2 it\n",
      "2 out\n",
      "1 from\n",
      "1 beneath\n",
      "1 what\n",
      "1 did\n",
      "1 turn\n",
      "2 to\n",
      "2 be\n",
      "2 but\n",
      "3 that\n",
      "1 by\n",
      "1 some\n",
      "1 chance\n",
      "1 had\n",
      "1 been\n",
      "1 lost\n",
      "1 in\n",
      "1 yard\n",
      "2 you\n",
      "1 may\n",
      "1 treasure\n",
      "1 master\n",
      "1 men\n",
      "2 prize\n",
      "1 i\n",
      "1 would\n",
      "1 rather\n",
      "1 have\n",
      "1 single\n",
      "1 barleycorn\n",
      "1 than\n",
      "1 peck\n",
      "1 of\n",
      "1 pearls\n",
      "1 precious\n",
      "1 things\n",
      "1 are\n",
      "1 those\n",
      "1 can\n",
      "1 them\n"
     ]
    }
   ],
   "source": [
    "import os\n",
    "os.chdir(\"C:\\\\Users\\\\DELL\\\\Desktop\\\\Python\\\\27022018\")\n",
    "ashop1 = open('Ashop.txt')\n",
    "d = {}\n",
    "trans = str.maketrans(\"\", \"\", p)\n",
    "for line in ashop1:\n",
    "    line = line.translate(trans)\n",
    "    line = line.lower()\n",
    "    l = line.split()\n",
    "    for word in l:\n",
    "        d[word] = d.get(word,0)+1\n",
    "for key in d:\n",
    "    print(d[key],key)"
   ]
  },
  {
   "cell_type": "code",
   "execution_count": null,
   "metadata": {
    "collapsed": true
   },
   "outputs": [],
   "source": []
  },
  {
   "cell_type": "markdown",
   "metadata": {
    "collapsed": true
   },
   "source": [
    "### Further Problems"
   ]
  },
  {
   "cell_type": "markdown",
   "metadata": {},
   "source": [
    "**Problem 1**\n",
    "\n",
    "Write a program that categorizes each mail message by which day of the week the commit was done.\n",
    "\n",
    "    Sample Line: \n",
    "    From stephen.marquard@uct.ac.za Sat Jan 5 09:14:16 2008\n",
    "\n",
    "    Sample Execution: \n",
    "    python dow.py \n",
    "    Enter a file name: mbox-short.txt \n",
    "    {'Fri': 20, 'Thu': 6, 'Sat': 1}"
   ]
  },
  {
   "cell_type": "code",
   "execution_count": 4,
   "metadata": {
    "collapsed": true
   },
   "outputs": [],
   "source": [
    "import os\n",
    "os.chdir(\"C:\\\\Users\\\\DELL\\\\Desktop\\\\Python\\\\12022018\")"
   ]
  },
  {
   "cell_type": "code",
   "execution_count": 48,
   "metadata": {},
   "outputs": [
    {
     "name": "stdout",
     "output_type": "stream",
     "text": [
      "{'Sat': 1, 'Fri': 20, 'Thu': 6}\n"
     ]
    }
   ],
   "source": [
    "fhand = open('mbox-short.txt')\n",
    "d= {}\n",
    "for line in fhand:\n",
    "    if line.startswith(\"From \"):\n",
    "        line = line.rstrip()\n",
    "        line = line[line.find(\" \",line.find(\"@\"))+1:]\n",
    "        line = line[:line.find(\" \")]\n",
    "        d[line] = d.get(line,0)+1\n",
    "print(d)"
   ]
  },
  {
   "cell_type": "code",
   "execution_count": 33,
   "metadata": {},
   "outputs": [
    {
     "name": "stdout",
     "output_type": "stream",
     "text": [
      "Help on built-in function rstrip:\n",
      "\n",
      "rstrip(...) method of builtins.str instance\n",
      "    S.rstrip([chars]) -> str\n",
      "    \n",
      "    Return a copy of the string S with trailing whitespace removed.\n",
      "    If chars is given and not None, remove characters in chars instead.\n",
      "\n"
     ]
    }
   ],
   "source": [
    "help(line.rstrip)"
   ]
  },
  {
   "cell_type": "markdown",
   "metadata": {},
   "source": [
    "**Problem 2**\n",
    "\n",
    "From where did they receive most of their messages\n",
    "\n",
    "    Enter a file name: mbox.txt \n",
    "    zqian@umich.edu 195"
   ]
  },
  {
   "cell_type": "code",
   "execution_count": 46,
   "metadata": {},
   "outputs": [
    {
     "name": "stdout",
     "output_type": "stream",
     "text": [
      "zqian@umich.edu 195\n"
     ]
    }
   ],
   "source": [
    "fhand = open('mbox.txt')\n",
    "d = {}  # empty dictionary.\n",
    "for line in fhand:\n",
    "    if line.startswith(\"From:\"):\n",
    "        line = line.rstrip()\n",
    "        line = line[line.find(\" \")+1:]\n",
    "        d[line] = d.get(line,0) + 1\n",
    "maxi  = d['stephen.marquard@uct.ac.za']\n",
    "for i in d:\n",
    "    if maxi < d[i]:\n",
    "        maxi = d[i]\n",
    "for j in d:\n",
    "    if d[j] == maxi:\n",
    "        print(j,d[j])"
   ]
  },
  {
   "cell_type": "markdown",
   "metadata": {
    "collapsed": true
   },
   "source": [
    "**Problem 3**\n",
    "\n",
    "Write a program to record the domain name (instead of the address) where the message was sent from instead of who the mail came from (i.e. the whole e-mail address). At the end of the program print out the contents of your dictionary."
   ]
  },
  {
   "cell_type": "code",
   "execution_count": 52,
   "metadata": {},
   "outputs": [
    {
     "name": "stdout",
     "output_type": "stream",
     "text": [
      "{'uct.ac.za': 6, 'media.berkeley.edu': 4, 'umich.edu': 7, 'iupui.edu': 8, 'caret.cam.ac.uk': 1, 'gmail.com': 1}\n"
     ]
    }
   ],
   "source": [
    "fhand = open('mbox-short.txt')\n",
    "d= {}\n",
    "for line in fhand:\n",
    "    if line.startswith(\"From \"):\n",
    "        line = line.rstrip()\n",
    "        line = line[line.find(\"@\")+1:line.find(\" \",line.find(\"@\"))]\n",
    "        d[line] = d.get(line,0)+1\n",
    "print(d)"
   ]
  },
  {
   "cell_type": "code",
   "execution_count": null,
   "metadata": {
    "collapsed": true
   },
   "outputs": [],
   "source": []
  }
 ],
 "metadata": {
  "kernelspec": {
   "display_name": "Python 3",
   "language": "python",
   "name": "python3"
  },
  "language_info": {
   "codemirror_mode": {
    "name": "ipython",
    "version": 3
   },
   "file_extension": ".py",
   "mimetype": "text/x-python",
   "name": "python",
   "nbconvert_exporter": "python",
   "pygments_lexer": "ipython3",
   "version": "3.6.3"
  }
 },
 "nbformat": 4,
 "nbformat_minor": 2
}
