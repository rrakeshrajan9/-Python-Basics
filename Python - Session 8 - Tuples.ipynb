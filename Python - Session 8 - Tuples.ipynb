{
 "cells": [
  {
   "cell_type": "markdown",
   "metadata": {},
   "source": [
    "## Tuples"
   ]
  },
  {
   "cell_type": "markdown",
   "metadata": {
    "collapsed": true
   },
   "source": [
    "A tuple is a sequence of values much like a list. The values stored in a tuple can be any type, and they are indexed by integers. The important difference is that tuples are immutable. Tuples are also comparable and hashable so we can sort lists of them and use tuples as key values in Python dictionaries.\n"
   ]
  },
  {
   "cell_type": "markdown",
   "metadata": {},
   "source": [
    "### Creating a Tuple"
   ]
  },
  {
   "cell_type": "markdown",
   "metadata": {
    "collapsed": true
   },
   "source": [
    "Syntactically, a tuple is a comma-separated list of values:"
   ]
  },
  {
   "cell_type": "code",
   "execution_count": 1,
   "metadata": {
    "collapsed": true
   },
   "outputs": [],
   "source": [
    "t = 1,2,3,6,8,4"
   ]
  },
  {
   "cell_type": "markdown",
   "metadata": {},
   "source": [
    "Although it is not necessary, it is common to enclose tuples in parentheses to help us quickly identify tuples when we look at Python code:"
   ]
  },
  {
   "cell_type": "code",
   "execution_count": 2,
   "metadata": {
    "collapsed": true
   },
   "outputs": [],
   "source": [
    "t = (1,2,3,6,8,4)"
   ]
  },
  {
   "cell_type": "markdown",
   "metadata": {},
   "source": [
    "Creating a tuple with a single string"
   ]
  },
  {
   "cell_type": "code",
   "execution_count": 3,
   "metadata": {
    "collapsed": true
   },
   "outputs": [],
   "source": [
    "t = (2,)"
   ]
  },
  {
   "cell_type": "code",
   "execution_count": 4,
   "metadata": {},
   "outputs": [
    {
     "data": {
      "text/plain": [
       "tuple"
      ]
     },
     "execution_count": 4,
     "metadata": {},
     "output_type": "execute_result"
    }
   ],
   "source": [
    "type(t)"
   ]
  },
  {
   "cell_type": "code",
   "execution_count": 5,
   "metadata": {
    "collapsed": true
   },
   "outputs": [],
   "source": [
    "t = (2)"
   ]
  },
  {
   "cell_type": "code",
   "execution_count": 6,
   "metadata": {},
   "outputs": [
    {
     "data": {
      "text/plain": [
       "int"
      ]
     },
     "execution_count": 6,
     "metadata": {},
     "output_type": "execute_result"
    }
   ],
   "source": [
    "type(t)"
   ]
  },
  {
   "cell_type": "markdown",
   "metadata": {},
   "source": [
    "### Converting a sequence (String, list) to a Tuple"
   ]
  },
  {
   "cell_type": "code",
   "execution_count": 7,
   "metadata": {},
   "outputs": [
    {
     "data": {
      "text/plain": [
       "('p', 'y', 't', 'h', 'o', 'n')"
      ]
     },
     "execution_count": 7,
     "metadata": {},
     "output_type": "execute_result"
    }
   ],
   "source": [
    "#Consider a string\n",
    "string = 'python'\n",
    "\n",
    "tuple(string)"
   ]
  },
  {
   "cell_type": "code",
   "execution_count": 8,
   "metadata": {},
   "outputs": [
    {
     "data": {
      "text/plain": [
       "('p', 'y', 't', 'h', 'o', 'n')"
      ]
     },
     "execution_count": 8,
     "metadata": {},
     "output_type": "execute_result"
    }
   ],
   "source": [
    "#Consider a list\n",
    "listt = ['p', 'y', 't', 'h', 'o', 'n']\n",
    "tuple(listt)"
   ]
  },
  {
   "cell_type": "markdown",
   "metadata": {},
   "source": [
    "### Slice Operators in Tuples"
   ]
  },
  {
   "cell_type": "code",
   "execution_count": 9,
   "metadata": {},
   "outputs": [
    {
     "data": {
      "text/plain": [
       "('p', 'y', 't', 'h', 'o', 'n')"
      ]
     },
     "execution_count": 9,
     "metadata": {},
     "output_type": "execute_result"
    }
   ],
   "source": [
    "t = tuple(string)\n",
    "t"
   ]
  },
  {
   "cell_type": "code",
   "execution_count": 10,
   "metadata": {},
   "outputs": [
    {
     "data": {
      "text/plain": [
       "'p'"
      ]
     },
     "execution_count": 10,
     "metadata": {},
     "output_type": "execute_result"
    }
   ],
   "source": [
    "t[0]"
   ]
  },
  {
   "cell_type": "code",
   "execution_count": 11,
   "metadata": {},
   "outputs": [
    {
     "data": {
      "text/plain": [
       "('y', 't')"
      ]
     },
     "execution_count": 11,
     "metadata": {},
     "output_type": "execute_result"
    }
   ],
   "source": [
    "t[1:3]"
   ]
  },
  {
   "cell_type": "markdown",
   "metadata": {},
   "source": [
    "### Modifying an element of a Tuple"
   ]
  },
  {
   "cell_type": "markdown",
   "metadata": {
    "collapsed": true
   },
   "source": [
    "Like strings, tuples are immutable, that is, tuples does not alow item assignment"
   ]
  },
  {
   "cell_type": "code",
   "execution_count": 12,
   "metadata": {},
   "outputs": [
    {
     "data": {
      "text/plain": [
       "('p', 'y', 't', 'h', 'o', 'n')"
      ]
     },
     "execution_count": 12,
     "metadata": {},
     "output_type": "execute_result"
    }
   ],
   "source": [
    "tup = tuple(string)\n",
    "tup"
   ]
  },
  {
   "cell_type": "code",
   "execution_count": 13,
   "metadata": {},
   "outputs": [
    {
     "ename": "TypeError",
     "evalue": "'tuple' object does not support item assignment",
     "output_type": "error",
     "traceback": [
      "\u001b[1;31m---------------------------------------------------------------------------\u001b[0m",
      "\u001b[1;31mTypeError\u001b[0m                                 Traceback (most recent call last)",
      "\u001b[1;32m<ipython-input-13-61122d36f6b0>\u001b[0m in \u001b[0;36m<module>\u001b[1;34m()\u001b[0m\n\u001b[1;32m----> 1\u001b[1;33m \u001b[0mtup\u001b[0m\u001b[1;33m[\u001b[0m\u001b[1;36m0\u001b[0m\u001b[1;33m]\u001b[0m \u001b[1;33m=\u001b[0m \u001b[1;34m\"P\"\u001b[0m \u001b[1;31m#Gives us error\u001b[0m\u001b[1;33m\u001b[0m\u001b[0m\n\u001b[0m",
      "\u001b[1;31mTypeError\u001b[0m: 'tuple' object does not support item assignment"
     ]
    }
   ],
   "source": [
    "tup[0] = \"P\" #Gives us error"
   ]
  },
  {
   "cell_type": "code",
   "execution_count": 14,
   "metadata": {},
   "outputs": [
    {
     "data": {
      "text/plain": [
       "('P', 'y', 't', 'h', 'o', 'n')"
      ]
     },
     "execution_count": 14,
     "metadata": {},
     "output_type": "execute_result"
    }
   ],
   "source": [
    "#However can we do it in some other way?\n",
    "tup = (\"P\",) + tup[1:]\n",
    "tup"
   ]
  },
  {
   "cell_type": "markdown",
   "metadata": {},
   "source": [
    "### Comparing Tuples"
   ]
  },
  {
   "cell_type": "markdown",
   "metadata": {
    "collapsed": true
   },
   "source": [
    "The comparison operators work with tuples and other sequences; Python starts by comparing the ﬁrst element from each sequence. If they are equal, it goes on to the next element, and so on, until it ﬁnds elements that differ. Subsequent elements are not considered (even if they are really big).\n"
   ]
  },
  {
   "cell_type": "code",
   "execution_count": 15,
   "metadata": {},
   "outputs": [
    {
     "data": {
      "text/plain": [
       "True"
      ]
     },
     "execution_count": 15,
     "metadata": {},
     "output_type": "execute_result"
    }
   ],
   "source": [
    "(0, 1, 2) < (0, 1, 4)"
   ]
  },
  {
   "cell_type": "code",
   "execution_count": 16,
   "metadata": {},
   "outputs": [
    {
     "data": {
      "text/plain": [
       "True"
      ]
     },
     "execution_count": 16,
     "metadata": {},
     "output_type": "execute_result"
    }
   ],
   "source": [
    "(0, 1, 2000000) < (0, 3, 4)"
   ]
  },
  {
   "cell_type": "markdown",
   "metadata": {},
   "source": [
    "**Exercise**\n",
    "\n",
    "Sort the words of the string in ascending order, store them in a list anf print the list"
   ]
  },
  {
   "cell_type": "code",
   "execution_count": 18,
   "metadata": {
    "collapsed": true
   },
   "outputs": [],
   "source": [
    "txt = 'but soft what light in yonder window break'"
   ]
  },
  {
   "cell_type": "code",
   "execution_count": 29,
   "metadata": {},
   "outputs": [
    {
     "name": "stdout",
     "output_type": "stream",
     "text": [
      "[(6, 'yonder'), (6, 'window'), (5, 'light'), (5, 'break'), (4, 'what'), (4, 'soft'), (3, 'but'), (2, 'in')]\n",
      "yonder\n",
      "window\n",
      "light\n",
      "break\n",
      "what\n",
      "soft\n",
      "but\n",
      "in\n"
     ]
    }
   ],
   "source": [
    "words = txt.split()\n",
    "words\n",
    "pairs = []\n",
    "for word in words:\n",
    "    pairs.append((len(word),word))\n",
    "\n",
    "pairs.sort(reverse=True)\n",
    "print(pairs)\n",
    "\n",
    "for a,b in pairs:\n",
    "    print(b)"
   ]
  },
  {
   "cell_type": "markdown",
   "metadata": {},
   "source": [
    "**An important note:** why do you think what comes before sort?"
   ]
  },
  {
   "cell_type": "markdown",
   "metadata": {},
   "source": [
    "### Tuple Assignment"
   ]
  },
  {
   "cell_type": "markdown",
   "metadata": {
    "collapsed": true
   },
   "source": [
    "One of the unique syntactic features of the Python language is the ability to have a tuple on the left hand side of an assignment statement. This allows you to assign more than one variable at a time when the left hand side is a sequence."
   ]
  },
  {
   "cell_type": "code",
   "execution_count": 23,
   "metadata": {
    "collapsed": true
   },
   "outputs": [],
   "source": [
    "x = 5\n",
    "y = 10"
   ]
  },
  {
   "cell_type": "code",
   "execution_count": 24,
   "metadata": {},
   "outputs": [
    {
     "name": "stdout",
     "output_type": "stream",
     "text": [
      "2\n",
      "5\n"
     ]
    }
   ],
   "source": [
    "x,y = [2,5]\n",
    "\n",
    "print(x)\n",
    "print(y)"
   ]
  },
  {
   "cell_type": "markdown",
   "metadata": {},
   "source": [
    "A particularly clever application of tuple assignment allows us to swap the values of two variables in a single statement:"
   ]
  },
  {
   "cell_type": "code",
   "execution_count": 25,
   "metadata": {},
   "outputs": [
    {
     "name": "stdout",
     "output_type": "stream",
     "text": [
      "45 33\n"
     ]
    }
   ],
   "source": [
    "a = 33\n",
    "b = 45\n",
    "\n",
    "a,b = b,a\n",
    "\n",
    "print(a,b)"
   ]
  },
  {
   "cell_type": "markdown",
   "metadata": {},
   "source": [
    "### Word Counting - Revisited"
   ]
  },
  {
   "cell_type": "markdown",
   "metadata": {
    "collapsed": true
   },
   "source": [
    "Can we sort the words in the descending order of their frequency?"
   ]
  },
  {
   "cell_type": "code",
   "execution_count": 38,
   "metadata": {},
   "outputs": [
    {
     "name": "stdout",
     "output_type": "stream",
     "text": [
      "(7, 'the')\n",
      "(5, 'a')\n",
      "(3, 'that')\n",
      "(3, 'for')\n",
      "(3, 'cock')\n",
      "(3, 'and')\n",
      "(2, 'you')\n",
      "(2, 'to')\n",
      "(2, 'straw')\n",
      "(2, 'quoth')\n",
      "(2, 'prize')\n",
      "(2, 'pearl')\n",
      "(2, 'out')\n",
      "(2, 'me')\n",
      "(2, 'it')\n",
      "(2, 'ho')\n",
      "(2, 'he')\n",
      "(2, 'but')\n",
      "(2, 'be')\n",
      "(1, 'yard')\n",
      "(1, 'would')\n",
      "(1, 'when')\n",
      "(1, 'what')\n",
      "(1, 'was')\n",
      "(1, 'up')\n",
      "(1, 'turn')\n",
      "(1, 'treasure')\n",
      "(1, 'those')\n",
      "(1, 'things')\n",
      "(1, 'them')\n",
      "(1, 'thats')\n",
      "(1, 'than')\n",
      "(1, 'suddenly')\n",
      "(1, 'strutting')\n",
      "(1, 'soon')\n",
      "(1, 'something')\n",
      "(1, 'some')\n",
      "(1, 'single')\n",
      "(1, 'shinning')\n",
      "(1, 'rooted')\n",
      "(1, 'rather')\n",
      "(1, 'precious')\n",
      "(1, 'peck')\n",
      "(1, 'pearls')\n",
      "(1, 'once')\n",
      "(1, 'of')\n",
      "(1, 'men')\n",
      "(1, 'may')\n",
      "(1, 'master')\n",
      "(1, 'lost')\n",
      "(1, 'in')\n",
      "(1, 'i')\n",
      "(1, 'hens')\n",
      "(1, 'have')\n",
      "(1, 'had')\n",
      "(1, 'from')\n",
      "(1, 'farmyard')\n",
      "(1, 'espied')\n",
      "(1, 'down')\n",
      "(1, 'did')\n",
      "(1, 'chance')\n",
      "(1, 'can')\n",
      "(1, 'by')\n",
      "(1, 'beneath')\n",
      "(1, 'been')\n",
      "(1, 'barleycorn')\n",
      "(1, 'are')\n",
      "(1, 'among')\n",
      "(1, 'amid')\n"
     ]
    }
   ],
   "source": [
    "import os\n",
    "import string\n",
    "p = string.punctuation\n",
    "os.chdir(\"C:\\\\Users\\\\DELL\\\\Desktop\\\\Python\\\\27022018\")\n",
    "ashop1 = open('Ashop.txt')\n",
    "trans = str.maketrans(\"\", \"\", p)\n",
    "pairs = []\n",
    "d = {}\n",
    "for line in ashop1:\n",
    "    line = line.translate(trans)\n",
    "    line = line.lower()\n",
    "    l = line.split()\n",
    "    for word in l:\n",
    "        d[word] = d.get(word,0)+1\n",
    "\n",
    "for key in d:\n",
    "    pairs.append((d[key],key))\n",
    "\n",
    "pairs.sort(reverse=True)\n",
    "\n",
    "for i in pairs:\n",
    "    print(i)"
   ]
  },
  {
   "cell_type": "code",
   "execution_count": null,
   "metadata": {
    "collapsed": true
   },
   "outputs": [],
   "source": []
  },
  {
   "cell_type": "markdown",
   "metadata": {
    "collapsed": true
   },
   "source": [
    "**Exercise**"
   ]
  },
  {
   "cell_type": "markdown",
   "metadata": {},
   "source": [
    "Write a program to count the distribution of the hour of the day for each of the messages. \n",
    "    \n",
    "    Sample Execution: \n",
    "    Enter a file name: mbox-short.txt \n",
    "    04 3 \n",
    "    06 1 \n",
    "    07 1 \n",
    "    09 2 \n",
    "    10 3 \n",
    "    11 6 \n",
    "    14 1 \n",
    "    15 2 \n",
    "    16 4 \n",
    "    17 2 \n",
    "    18 1 \n",
    "    19 1"
   ]
  },
  {
   "cell_type": "code",
   "execution_count": 2,
   "metadata": {},
   "outputs": [],
   "source": [
    "import os\n",
    "os.chdir(\"C:\\\\Users\\\\DELL\\\\Desktop\\\\Python\\\\12022018\")"
   ]
  },
  {
   "cell_type": "code",
   "execution_count": 19,
   "metadata": {},
   "outputs": [
    {
     "name": "stdout",
     "output_type": "stream",
     "text": [
      "('04', 3)\n",
      "('06', 1)\n",
      "('07', 1)\n",
      "('09', 2)\n",
      "('10', 3)\n",
      "('11', 6)\n",
      "('14', 1)\n",
      "('15', 2)\n",
      "('16', 4)\n",
      "('17', 2)\n",
      "('18', 1)\n",
      "('19', 1)\n"
     ]
    }
   ],
   "source": [
    "fhand = open('mbox-short.txt')\n",
    "d= {}\n",
    "tup = []\n",
    "for line in fhand:\n",
    "    if line.startswith(\"From \"):\n",
    "        line = line.rstrip()\n",
    "        line = line[line.find(\" \",line.find(\"  \")+2)+1:line.find(\":\")]\n",
    "        d[line] = d.get(line,0)+1\n",
    "for keys in d:\n",
    "    tup.append((keys,d[keys]))\n",
    "tup.sort()\n",
    "for i in tup:\n",
    "    print(i)"
   ]
  },
  {
   "cell_type": "code",
   "execution_count": null,
   "metadata": {
    "collapsed": true
   },
   "outputs": [],
   "source": []
  }
 ],
 "metadata": {
  "kernelspec": {
   "display_name": "Python 3",
   "language": "python",
   "name": "python3"
  },
  "language_info": {
   "codemirror_mode": {
    "name": "ipython",
    "version": 3
   },
   "file_extension": ".py",
   "mimetype": "text/x-python",
   "name": "python",
   "nbconvert_exporter": "python",
   "pygments_lexer": "ipython3",
   "version": "3.6.3"
  }
 },
 "nbformat": 4,
 "nbformat_minor": 2
}
