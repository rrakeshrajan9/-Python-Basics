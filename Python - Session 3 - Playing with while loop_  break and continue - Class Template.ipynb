{
 "cells": [
  {
   "cell_type": "markdown",
   "metadata": {},
   "source": [
    "### A. While Loop"
   ]
  },
  {
   "cell_type": "markdown",
   "metadata": {},
   "source": [
    "How will you make a computer do a certain task until a condition is satisfied? For example, keep prompting an user for the password unless it matches."
   ]
  },
  {
   "cell_type": "code",
   "execution_count": null,
   "metadata": {
    "collapsed": true
   },
   "outputs": [],
   "source": [
    "pswd = \"\"\n",
    "while pswd != \"secret\":\n",
    "    pswd = input(\"Enter correct password: \")\n",
    "print(\"You are logged in\")"
   ]
  },
  {
   "cell_type": "markdown",
   "metadata": {},
   "source": [
    "** A Problem **"
   ]
  },
  {
   "cell_type": "markdown",
   "metadata": {},
   "source": [
    "Suppose that a player wants to play a game which requires him Rs. 1,000 to start. If the current balance in his account is less than Rs. 1,000 he needs to withdraw the extra money from his e-wallet.\n",
    "\n",
    "Note that if the sum of money in his courrent account and the amount withdrawn is greater than or equal to Rs. 1,000 then he can start playing the game. However if the sum is less than Rs. 1,000 then the program should keep displaying the user the message “You still do not have enough money to start playing.” and keep prompting the user to withdraw money unless it crosses Rs. 1,000. Once ready, i.e. if his current account balance crosses Rs. 1,000, it will display a message “Now, you are ready to play the game.” Your program should also display the account balance and the current amount in the e-wallet.\n",
    "\n",
    "(consider: initial account balance is Rs. 200 and money in the e-wallet is Rs. 5,000)\n",
    "\n",
    "(Do further improvement by checking if the e-wallet balance becomes NIL, etc.)"
   ]
  },
  {
   "cell_type": "code",
   "execution_count": 10,
   "metadata": {},
   "outputs": [
    {
     "name": "stdout",
     "output_type": "stream",
     "text": [
      "You do not have enough money. Please add money\n",
      "Withdraw amount : 400\n",
      "Balance:  600.0    Wallet:  4600.0\n",
      "You still do not have enough money\n",
      "Withdraw amount : 400\n",
      "Balance:  1000.0    Wallet:  4200.0\n",
      "You are ready to play\n",
      "Balance:  1000.0    Wallet:  4200.0\n"
     ]
    }
   ],
   "source": [
    "accnt = 200\n",
    "ewallet = 5000\n",
    "count = 0\n",
    "\n",
    "while accnt<1000:\n",
    "    count +=1\n",
    "    if count == 1:\n",
    "        print(\"You do not have enough money. Please add money\")\n",
    "    else:\n",
    "        print(\"You still do not have enough money\")\n",
    "        \n",
    "    amt = float(input(\"Withdraw amount : \"))\n",
    "    accnt = accnt+amt\n",
    "    ewallet = ewallet - amt\n",
    "    print(\"Balance: \",accnt, \"   Wallet: \",ewallet)\n",
    "if accnt >=1000 :\n",
    "    print(\"You are ready to play\")\n",
    "    print(\"Balance: \",accnt, \"   Wallet: \",ewallet)"
   ]
  },
  {
   "cell_type": "markdown",
   "metadata": {},
   "source": [
    "**Take a break**"
   ]
  },
  {
   "cell_type": "code",
   "execution_count": null,
   "metadata": {
    "collapsed": true
   },
   "outputs": [],
   "source": [
    "import webbrowser"
   ]
  },
  {
   "cell_type": "code",
   "execution_count": null,
   "metadata": {
    "collapsed": true
   },
   "outputs": [],
   "source": [
    "webbrowser.open(\"https://www.youtube.com/watch?v=7mNu1DaTVDY\")"
   ]
  },
  {
   "cell_type": "code",
   "execution_count": null,
   "metadata": {
    "collapsed": true
   },
   "outputs": [],
   "source": [
    "import time\n",
    "\n",
    "time.sleep(3)\n",
    "\n",
    "webbrowser.open(\"https://www.youtube.com/watch?v=7mNu1DaTVDY\")"
   ]
  },
  {
   "cell_type": "code",
   "execution_count": null,
   "metadata": {
    "collapsed": true
   },
   "outputs": [],
   "source": [
    "import time\n",
    "\n",
    "count = 0\n",
    "while count< 3:\n",
    "    count += 1\n",
    "    time.sleep(10)\n",
    "    webbrowser.open(\"https://www.youtube.com/watch?v=7mNu1DaTVDY\")"
   ]
  },
  {
   "cell_type": "markdown",
   "metadata": {},
   "source": [
    "### B. Break and Continue"
   ]
  },
  {
   "cell_type": "markdown",
   "metadata": {},
   "source": [
    "**Recall the password problem**"
   ]
  },
  {
   "cell_type": "markdown",
   "metadata": {},
   "source": [
    "**Make an improvement**\n",
    "\n",
    "If the user fails to enter the password in 5 chances display a message “You have lost your 5 chances” and stop the program."
   ]
  },
  {
   "cell_type": "code",
   "execution_count": null,
   "metadata": {
    "collapsed": true
   },
   "outputs": [],
   "source": [
    "count = 0\n",
    "pswd = \"\"\n",
    "while pswd != \"secret\":\n",
    "    count += 1\n",
    "    pswd = input(\"Enter correct password: \")\n",
    "    if count == 5:\n",
    "        print(\"Try after 30 secs\")\n",
    "        break\n",
    "print(\"You are logged in\")"
   ]
  },
  {
   "cell_type": "markdown",
   "metadata": {},
   "source": [
    "**Make another additional improvement**"
   ]
  },
  {
   "cell_type": "markdown",
   "metadata": {},
   "source": [
    "If the user enters “forgot password”, display a hint and again prompt for password. (But the user will get only 5 chances to enter the password)"
   ]
  },
  {
   "cell_type": "code",
   "execution_count": null,
   "metadata": {
    "collapsed": true
   },
   "outputs": [],
   "source": [
    "count = 0\n",
    "pswd = \"\"\n",
    "while pswd != \"secret\":\n",
    "    if count > 0 and pswd != \"forget\":\n",
    "        print(\"Invalid password\")\n",
    "    pswd = input(\"Enter correct password: \")\n",
    "    if pswd == \"forget\":\n",
    "        print(\"Hint: okasoids\")\n",
    "        continue    #ignore the statements below and continue with the loop.\n",
    "    if pswd == \"secret\":\n",
    "        break\n",
    "    \n",
    "    count += 1\n",
    "    if count == 5:\n",
    "        print(\"Try after 30 secs\")\n",
    "        break       #breaks the loop statement.\n",
    "print(\"You are logged in\")"
   ]
  },
  {
   "cell_type": "markdown",
   "metadata": {},
   "source": [
    "### D. Python functions"
   ]
  },
  {
   "cell_type": "markdown",
   "metadata": {},
   "source": [
    "**1. Some basic functions: min, max, len, sum **"
   ]
  },
  {
   "cell_type": "code",
   "execution_count": null,
   "metadata": {
    "collapsed": true
   },
   "outputs": [],
   "source": [
    "x = [1,3,4,2,6]"
   ]
  },
  {
   "cell_type": "code",
   "execution_count": null,
   "metadata": {
    "collapsed": true
   },
   "outputs": [],
   "source": [
    "min(x)"
   ]
  },
  {
   "cell_type": "code",
   "execution_count": null,
   "metadata": {
    "collapsed": true
   },
   "outputs": [],
   "source": [
    "max(x)"
   ]
  },
  {
   "cell_type": "code",
   "execution_count": null,
   "metadata": {
    "collapsed": true
   },
   "outputs": [],
   "source": [
    "len(x)"
   ]
  },
  {
   "cell_type": "markdown",
   "metadata": {},
   "source": [
    "**2. Type conversion functions: int, float, str**"
   ]
  },
  {
   "cell_type": "code",
   "execution_count": null,
   "metadata": {
    "collapsed": true
   },
   "outputs": [],
   "source": []
  },
  {
   "cell_type": "markdown",
   "metadata": {},
   "source": [
    "**3. Some math functions: sum, sin, log10 **"
   ]
  },
  {
   "cell_type": "code",
   "execution_count": null,
   "metadata": {
    "collapsed": true
   },
   "outputs": [],
   "source": [
    "import math"
   ]
  },
  {
   "cell_type": "code",
   "execution_count": null,
   "metadata": {
    "collapsed": true
   },
   "outputs": [],
   "source": [
    "math.log10(30)"
   ]
  },
  {
   "cell_type": "code",
   "execution_count": null,
   "metadata": {
    "collapsed": true
   },
   "outputs": [],
   "source": [
    "math.sin(30)"
   ]
  },
  {
   "cell_type": "markdown",
   "metadata": {},
   "source": [
    "** 4. Functions to generate random numbers:**"
   ]
  },
  {
   "cell_type": "code",
   "execution_count": 6,
   "metadata": {
    "collapsed": true
   },
   "outputs": [],
   "source": [
    "import random"
   ]
  },
  {
   "cell_type": "code",
   "execution_count": null,
   "metadata": {
    "collapsed": true
   },
   "outputs": [],
   "source": [
    "#random.random\n",
    "random.random()"
   ]
  },
  {
   "cell_type": "code",
   "execution_count": null,
   "metadata": {
    "collapsed": true
   },
   "outputs": [],
   "source": [
    "#random.randint\n",
    "random.randint(1,10)"
   ]
  },
  {
   "cell_type": "code",
   "execution_count": null,
   "metadata": {
    "collapsed": true
   },
   "outputs": [],
   "source": [
    "#random.choice\n",
    "random.choice(x)"
   ]
  },
  {
   "cell_type": "markdown",
   "metadata": {},
   "source": [
    "### E. Guess the number Game"
   ]
  },
  {
   "cell_type": "markdown",
   "metadata": {},
   "source": [
    "Guess a number is a game that prompts a player to guess a number between 0 and 9, which is randomly generated by the system. When the input given by the user matches the number generated by the system then the user wins. The game should go as follows:\n",
    "\t\n",
    "\tGuess the number: 5\n",
    "\tSorry, try again\n",
    "\tGuess the number: 3\n",
    "\tSorry, try again\n",
    "\tGuess the number: 8\n",
    "\tYou got it right! Congo!\n",
    "    \n",
    "    Guess the number: 5\n",
    "\tSorry, try again\n",
    "\tGuess the number: 3\n",
    "\tSorry, try again\n",
    "\tGuess the number: exit\n",
    "\tEnjoy your day!"
   ]
  },
  {
   "cell_type": "code",
   "execution_count": 7,
   "metadata": {},
   "outputs": [
    {
     "name": "stdout",
     "output_type": "stream",
     "text": [
      "Guess the number: \n"
     ]
    },
    {
     "ename": "ValueError",
     "evalue": "invalid literal for int() with base 10: ''",
     "output_type": "error",
     "traceback": [
      "\u001b[1;31m---------------------------------------------------------------------------\u001b[0m",
      "\u001b[1;31mValueError\u001b[0m                                Traceback (most recent call last)",
      "\u001b[1;32m<ipython-input-7-643910029e02>\u001b[0m in \u001b[0;36m<module>\u001b[1;34m()\u001b[0m\n\u001b[0;32m      3\u001b[0m \u001b[1;32mif\u001b[0m \u001b[0mnum\u001b[0m \u001b[1;33m==\u001b[0m \u001b[1;34m\"exit\"\u001b[0m\u001b[1;33m:\u001b[0m\u001b[1;33m\u001b[0m\u001b[0m\n\u001b[0;32m      4\u001b[0m         \u001b[0mprint\u001b[0m\u001b[1;33m(\u001b[0m\u001b[1;34m\"Enjoy your day!\"\u001b[0m\u001b[1;33m)\u001b[0m\u001b[1;33m\u001b[0m\u001b[0m\n\u001b[1;32m----> 5\u001b[1;33m \u001b[1;32mwhile\u001b[0m \u001b[0mint\u001b[0m\u001b[1;33m(\u001b[0m\u001b[0mnum\u001b[0m\u001b[1;33m)\u001b[0m \u001b[1;33m!=\u001b[0m \u001b[0mr\u001b[0m\u001b[1;33m:\u001b[0m\u001b[1;33m\u001b[0m\u001b[0m\n\u001b[0m\u001b[0;32m      6\u001b[0m     \u001b[0mprint\u001b[0m\u001b[1;33m(\u001b[0m\u001b[1;34m\"Sorry, try again\"\u001b[0m\u001b[1;33m)\u001b[0m\u001b[1;33m\u001b[0m\u001b[0m\n\u001b[0;32m      7\u001b[0m     \u001b[0mnum\u001b[0m \u001b[1;33m=\u001b[0m \u001b[0minput\u001b[0m\u001b[1;33m(\u001b[0m\u001b[1;34m\"Guess the number: \"\u001b[0m\u001b[1;33m)\u001b[0m\u001b[1;33m\u001b[0m\u001b[0m\n",
      "\u001b[1;31mValueError\u001b[0m: invalid literal for int() with base 10: ''"
     ]
    }
   ],
   "source": [
    "num = input(\"Guess the number: \")\n",
    "r = random.randint(0,9)\n",
    "if num == \"exit\":\n",
    "        print(\"Enjoy your day!\")\n",
    "while int(num) != r:\n",
    "    print(\"Sorry, try again\")\n",
    "    num = input(\"Guess the number: \")\n",
    "    if num == \"exit\":\n",
    "        print(\"Enjoy your day!\")\n",
    "        break\n",
    "if num != \"exit\":\n",
    "    if int(num) == r:\n",
    "        print(\"You got it right! Congo!\")"
   ]
  },
  {
   "cell_type": "code",
   "execution_count": 3,
   "metadata": {
    "collapsed": true
   },
   "outputs": [],
   "source": [
    "import time\n",
    "import sys\n",
    "def timeWat():\n",
    "    for remaining in range(10,0,-1):\n",
    "        sys.stdout.write(\"\\r%d seconds remaining.\" %remaining)\n",
    "        time.sleep(1)"
   ]
  },
  {
   "cell_type": "code",
   "execution_count": null,
   "metadata": {
    "collapsed": true
   },
   "outputs": [],
   "source": [
    "timeWat()"
   ]
  },
  {
   "cell_type": "code",
   "execution_count": 9,
   "metadata": {},
   "outputs": [
    {
     "name": "stdout",
     "output_type": "stream",
     "text": [
      "Enter correct password: \n",
      "Invalid password\n",
      "Enter correct password: \n",
      "Invalid password\n",
      "Enter correct password: \n",
      "Invalid password\n",
      "Enter correct password: \n",
      "Invalid password\n",
      "Enter correct password: \n",
      "Try after 10 secs\n",
      "1 seconds remaining..\n",
      "\n",
      "Enter correct password: \n",
      "Invalid password\n",
      "Enter correct password: \n",
      "Invalid password\n",
      "Enter correct password: \n",
      "Invalid password\n",
      "Enter correct password: \n",
      "Invalid password\n",
      "Enter correct password: \n",
      "Try after 10 secs\n",
      "1 seconds remaining..\n",
      "\n",
      "Enter correct password: secret\n",
      "You are logged in\n"
     ]
    }
   ],
   "source": [
    "count = 0\n",
    "pswd = \"\"\n",
    "while pswd != \"secret\":\n",
    "    if count > 0 and pswd != \"forget\":\n",
    "        print(\"Invalid password\")\n",
    "    pswd = input(\"Enter correct password: \")\n",
    "    if pswd == \"forget\":\n",
    "        print(\"Hint: okasoids\")\n",
    "        continue    #ignore the statements below and continue with the loop.\n",
    "    if pswd == \"secret\":\n",
    "        break\n",
    "    \n",
    "    count += 1\n",
    "    if count == 5:\n",
    "        print(\"Try after 10 secs\")\n",
    "        timeWat()\n",
    "        print(\"\\n\")\n",
    "        count = 0\n",
    "        continue\n",
    "print(\"You are logged in\")"
   ]
  },
  {
   "cell_type": "code",
   "execution_count": null,
   "metadata": {
    "collapsed": true
   },
   "outputs": [],
   "source": []
  }
 ],
 "metadata": {
  "kernelspec": {
   "display_name": "Python 3",
   "language": "python",
   "name": "python3"
  },
  "language_info": {
   "codemirror_mode": {
    "name": "ipython",
    "version": 3
   },
   "file_extension": ".py",
   "mimetype": "text/x-python",
   "name": "python",
   "nbconvert_exporter": "python",
   "pygments_lexer": "ipython3",
   "version": "3.6.3"
  }
 },
 "nbformat": 4,
 "nbformat_minor": 2
}
